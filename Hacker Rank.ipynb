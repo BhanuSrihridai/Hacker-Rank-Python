{
 "cells": [
  {
   "cell_type": "markdown",
   "metadata": {},
   "source": [
    "Task:\n",
    "\n",
    "Given an integer, , perform the following conditional actions:\n",
    "\n",
    "If  n is odd, print Weird\n",
    "\n",
    "If  n is even and in the inclusive range of  to , print Not Weird\n",
    "\n",
    "If  n is even and in the inclusive range of  to , print Weird\n",
    "\n",
    "If  n is even and greater than , print Not Weird\n",
    "\n",
    "\n",
    "Input Format\n",
    "\n",
    "A single line containing a positive integer.\n",
    "\n",
    "Output Format\n",
    "\n",
    "Print Weird if the number is weird. Otherwise, print Not Weird."
   ]
  },
  {
   "cell_type": "code",
   "execution_count": null,
   "metadata": {},
   "outputs": [],
   "source": [
    "n = int(input().strip())\n",
    "if n%2!=0:\n",
    "    print(\"Weird\")\n",
    "elif n>=2 and n<=5:\n",
    "    print('Not Weird')\n",
    "elif 6<=n<=20:\n",
    "    print(\"Weird\")\n",
    "elif n>20:\n",
    "    print(\"Not Weird\")"
   ]
  },
  {
   "cell_type": "markdown",
   "metadata": {},
   "source": [
    "The provided code stub reads two integers from STDIN, a and b. Add code to print three lines where:\n",
    "\n",
    "The first line contains the sum of the two numbers.\n",
    "\n",
    "The second line contains the difference of the two numbers (first - second).\n",
    "\n",
    "The third line contains the product of the two numbers."
   ]
  },
  {
   "cell_type": "code",
   "execution_count": null,
   "metadata": {},
   "outputs": [],
   "source": [
    "if __name__ == '__main__':\n",
    "    a = int(input())\n",
    "    b = int(input())\n",
    "    \n",
    "    print(a+b)\n",
    "    print(a-b)\n",
    "    print(a*b)"
   ]
  },
  {
   "cell_type": "markdown",
   "metadata": {},
   "source": [
    "The provided code stub reads two integers, a and b, from STDIN.\n",
    "\n",
    "Add logic to print two lines. The first line should contain the result of integer division, a//b . The second line should contain the result of float division, a/b .\n",
    "\n",
    "No rounding or formatting is necessary."
   ]
  },
  {
   "cell_type": "code",
   "execution_count": null,
   "metadata": {},
   "outputs": [],
   "source": [
    "if __name__ == '__main__':\n",
    "    a = int(input())\n",
    "    b = int(input())\n",
    "    \n",
    "    print(a//b)\n",
    "    print(a/b)"
   ]
  },
  {
   "cell_type": "markdown",
   "metadata": {},
   "source": [
    "The provided code stub reads and integer,n, from STDIN. For all non-negative integers, print i^2"
   ]
  },
  {
   "cell_type": "code",
   "execution_count": null,
   "metadata": {},
   "outputs": [],
   "source": [
    "if __name__ == '__main__':\n",
    "    n = int(input())\n",
    "    for i in range(n):\n",
    "        print(i**2)"
   ]
  },
  {
   "cell_type": "markdown",
   "metadata": {},
   "source": [
    "An extra day is added to the calendar almost every four years as February 29, and the day is called a leap day. It corrects the calendar for the fact that our planet takes approximately 365.25 days to orbit the sun. A leap year contains a leap day.\n",
    "\n",
    "In the Gregorian calendar, three conditions are used to identify leap years:\n",
    "\n",
    "The year can be evenly divided by 4, is a leap year, unless:\n",
    "The year can be evenly divided by 100, it is NOT a leap year, unless:\n",
    "The year is also evenly divisible by 400. Then it is a leap year.\n",
    "This means that in the Gregorian calendar, the years 2000 and 2400 are leap years, while 1800, 1900, 2100, 2200, 2300 and 2500 are NOT leap years. Source\n",
    "\n",
    "Task\n",
    "\n",
    "Given a year, determine whether it is a leap year. If it is a leap year, return the Boolean True, otherwise return False.\n",
    "\n",
    "Note that the code stub provided reads from STDIN and passes arguments to the is_leap function. It is only necessary to complete the is_leap function."
   ]
  },
  {
   "cell_type": "code",
   "execution_count": null,
   "metadata": {},
   "outputs": [],
   "source": [
    "def is_leap(year):\n",
    "    leap = False\n",
    "    if year%100==0:\n",
    "        if year%400==0:\n",
    "            leap=True\n",
    "        else:\n",
    "            leap=False\n",
    "    else:\n",
    "       if year%4==0:\n",
    "        leap=True\n",
    "       else:\n",
    "        leap=False\n",
    "    \n",
    "    return leap"
   ]
  },
  {
   "cell_type": "markdown",
   "metadata": {},
   "source": [
    "The included code stub will read an integer n from STDIN.\n",
    "\n",
    "Without using any string methods, try to print the following:\n",
    "1,2,3.....n\n",
    "\n",
    "Note that \"....\" represents the consecutive values in between."
   ]
  },
  {
   "cell_type": "code",
   "execution_count": null,
   "metadata": {},
   "outputs": [],
   "source": [
    "n = int(input())\n",
    "op=''\n",
    "for i in range(n):\n",
    "    op=op+str(i+1)\n",
    "print(op) "
   ]
  },
  {
   "cell_type": "markdown",
   "metadata": {},
   "source": [
    "Let's learn about list comprehensions! You are given three integers x,y and z representing the dimensions of a cuboid along with an integer n. Print a list of all possible coordinates given by(i,j,k) on a 3D grid where the sum of (i+j+k) is not equal to n. Here,0<=i<=x,0<=j<=y, and 0<=k<=z . Please use list comprehensions rather than multiple loops, as a learning exercise."
   ]
  },
  {
   "cell_type": "code",
   "execution_count": null,
   "metadata": {},
   "outputs": [],
   "source": [
    "if __name__ == '__main__':\n",
    "    x = int(input())\n",
    "    y = int(input())\n",
    "    z = int(input())\n",
    "    n = int(input())\n",
    "    \n",
    "    mat=[[i,j,k] for i in range(x+1) for j in range(y+1) for k in range(z+1) if i+j+k !=n]\n",
    "    \n",
    "    #printable=[element for element in mat if element[0]+element[1]+element[2]!=n]\n",
    "\n",
    "    print(mat)"
   ]
  },
  {
   "cell_type": "markdown",
   "metadata": {},
   "source": [
    "Given the participants' score sheet for your University Sports Day, you are required to find the runner-up score. You are given n scores. Store them in a list and find the score of the runner-up.\n",
    "\n",
    "Input Format\n",
    "\n",
    "The first line contains n. The second line contains an array A[] of n integers each separated by a space.\n",
    "\n",
    "Output Format\n",
    "\n",
    "Print the runner-up score."
   ]
  },
  {
   "cell_type": "code",
   "execution_count": null,
   "metadata": {},
   "outputs": [],
   "source": [
    "if __name__ == '__main__':\n",
    "    n = int(input())\n",
    "    arr = map(int, input().split())\n",
    "    \n",
    "    arr=list(arr)\n",
    "    \n",
    "    def func(array):\n",
    "        lisT=[]\n",
    "        [lisT.append(element) for element in array if element not in lisT]\n",
    "        return lisT\n",
    "    \n",
    "    arr=func(arr)\n",
    "    arr.sort(reverse=True)\n",
    "    print(arr[1])"
   ]
  },
  {
   "cell_type": "markdown",
   "metadata": {},
   "source": [
    "Given the names and grades for each student in a class of N students, store them in a nested list and print the name(s) of any student(s) having the second lowest grade.\n",
    "\n",
    "Note: If there are multiple students with the second lowest grade, order their names alphabetically and print each name on a new line.\n",
    "\n",
    "Input:\n",
    "5\n",
    "Harry\n",
    "37.21\n",
    "Berry\n",
    "37.21\n",
    "Tina\n",
    "37.2\n",
    "Akriti\n",
    "41\n",
    "Harsh\n",
    "39\n",
    "\n",
    "Output:\n",
    "\n",
    "Berry\n",
    "\n",
    "Harry"
   ]
  },
  {
   "cell_type": "code",
   "execution_count": 20,
   "metadata": {},
   "outputs": [
    {
     "name": "stdout",
     "output_type": "stream",
     "text": [
      "[[-50.0, 'Mawer'], [-50.0, 'Rachel'], [-50.0, 'Sheen'], [51.0, 'Shaheen']]\n",
      "[-50.0, -50.0, -50.0, 51.0]\n",
      "3\n",
      "Shaheen\n"
     ]
    }
   ],
   "source": [
    "students=[]\n",
    "scores=[]\n",
    "for _ in range(int(input())):\n",
    "    name = input()\n",
    "    score = float(input())\n",
    "    scores.append(score)\n",
    "    students.append([score,name])\n",
    "\n",
    "students.sort()\n",
    "scores.sort()\n",
    "\n",
    "# print(students)\n",
    "# print(scores)\n",
    "\n",
    "# if students[1][0] not in students[2:][0]:\n",
    "#     print(students[1][1]) \n",
    "# else:\n",
    "#     for element in students[1:]:\n",
    "#         if element[0]==students[1][0]:\n",
    "#             print(element[1])\n",
    "#         else:\n",
    "#             pass \n",
    "\n",
    "for i in range(len(scores)):\n",
    "    if scores[i]!=scores[i+1]:\n",
    "        index=scores.index(scores[i+1])\n",
    "        # print(index)\n",
    "        break\n",
    "try:\n",
    "    if students[index][0] not in students[index+1:][0]:\n",
    "        print(students[index][1]) \n",
    "    else:\n",
    "        for element in students[index:]:\n",
    "            if element[0]==students[index][0]:\n",
    "                print(element[1])\n",
    "            else:\n",
    "                pass\n",
    "except:\n",
    "    print(students[-1][1])\n"
   ]
  },
  {
   "cell_type": "markdown",
   "metadata": {},
   "source": [
    "The provided code stub will read in a dictionary containing key/value pairs of name:[marks] for a list of students. Print the average of the marks array for the student name provided, showing 2 places after the decimal.\n",
    "\n",
    "Sample Input:\n",
    "\n",
    "3\n",
    "\n",
    "Krishna 67 68 69\n",
    "\n",
    "Arjun 70 98 63\n",
    "\n",
    "Malika 52 56 60\n",
    "\n",
    "Malika\n",
    "\n",
    "Sample Output:\n",
    "\n",
    "56"
   ]
  },
  {
   "cell_type": "markdown",
   "metadata": {},
   "source": [
    "2\n",
    "Harsh 25 26.5 28\n",
    "Anurag 26 28 30\n",
    "Harsh"
   ]
  },
  {
   "cell_type": "code",
   "execution_count": 28,
   "metadata": {},
   "outputs": [
    {
     "name": "stdout",
     "output_type": "stream",
     "text": [
      "79.5\n",
      "26.50\n"
     ]
    }
   ],
   "source": [
    "n = int(input())\n",
    "student_marks = {}\n",
    "for _ in range(n):\n",
    "    name, *line = input().split()\n",
    "    scores = list(map(float, line))\n",
    "    student_marks[name] = scores\n",
    "\n",
    "query_name = input()\n",
    "\n",
    "marks=student_marks[query_name]\n",
    "\n",
    "# average = sum(marks)/len(marks)\n",
    "# print(f\"{average: .2f}\".strip())\n",
    "\n",
    "sum=0\n",
    "for x in marks:\n",
    "    sum+=x\n",
    "print(sum)\n",
    "\n",
    "average=sum/len(marks)\n",
    "print(f\"{average: .2f}\".strip())\n"
   ]
  },
  {
   "cell_type": "markdown",
   "metadata": {},
   "source": [
    "Given an integer n, and n space-separated integers as input, create a tuple t, of those n integers. Then compute and print the result of hash(t).\n",
    "\n",
    "Note: hash() is one of the functions in the __builtins__ module, so it need not be imported."
   ]
  },
  {
   "cell_type": "code",
   "execution_count": 4,
   "metadata": {},
   "outputs": [
    {
     "name": "stdout",
     "output_type": "stream",
     "text": [
      "(1, 5)\n",
      "173794974761290439\n"
     ]
    }
   ],
   "source": [
    "# Input: Read n and n space-separated integers\n",
    "n = int(input())\n",
    "integer_list = map(int, input().split())\n",
    "\n",
    "# Create a tuple from the list of integers\n",
    "t = tuple(integer_list)\n",
    "print(t)\n",
    "\n",
    "# Compute and print the hash value of the tuple\n",
    "hash_value = hash(t)\n",
    "print(hash_value)\n"
   ]
  },
  {
   "cell_type": "markdown",
   "metadata": {},
   "source": [
    "You are asked to ensure that the first and last names of people begin with a capital letter in their passports. For example, alison heck should be capitalised correctly as Alison Heck.\n",
    "\n",
    "Given a full name, your task is to capitalize the name appropriately."
   ]
  },
  {
   "cell_type": "code",
   "execution_count": 19,
   "metadata": {},
   "outputs": [
    {
     "name": "stdout",
     "output_type": "stream",
     "text": [
      "L W 2 R 3G\n"
     ]
    }
   ],
   "source": [
    "s=input()\n",
    "\n",
    "s=s.title()\n",
    "\n",
    "print(s.strip())"
   ]
  },
  {
   "cell_type": "code",
   "execution_count": 2,
   "metadata": {},
   "outputs": [
    {
     "name": "stdout",
     "output_type": "stream",
     "text": [
      "L  W  2  R  3g\n"
     ]
    }
   ],
   "source": [
    "def custom_title_with_numbers(s):\n",
    "    words = s.split(' ')  # Split using space as the separator\n",
    "    capitalized_words = []\n",
    "\n",
    "    for word in words:\n",
    "        if word.isalpha():\n",
    "            capitalized_word = word[0].upper() + word[1:]\n",
    "            capitalized_words.append(capitalized_word)\n",
    "        else:\n",
    "            capitalized_words.append(word)\n",
    "\n",
    "    return '  '.join(capitalized_words)  # Join with two spaces to maintain extra spaces\n",
    "\n",
    "# Example usage\n",
    "input_str = input()\n",
    "output_str = custom_title_with_numbers(input_str)\n",
    "print(output_str)\n"
   ]
  },
  {
   "cell_type": "markdown",
   "metadata": {},
   "source": [
    "You are given a string. Split the string on a \" \" (space) delimiter and join using a - hyphen."
   ]
  },
  {
   "cell_type": "code",
   "execution_count": 5,
   "metadata": {},
   "outputs": [
    {
     "name": "stdout",
     "output_type": "stream",
     "text": [
      "this-is-a-string\n"
     ]
    }
   ],
   "source": [
    "s=input().split()\n",
    "s=\"-\".join(s)\n",
    "print(s)"
   ]
  },
  {
   "cell_type": "code",
   "execution_count": 9,
   "metadata": {},
   "outputs": [
    {
     "name": "stdout",
     "output_type": "stream",
     "text": [
      "this--is-a-string\n"
     ]
    }
   ],
   "source": [
    "s=input().replace(\" \",\"-\")\n",
    "\n",
    "print(s)"
   ]
  }
 ],
 "metadata": {
  "kernelspec": {
   "display_name": "Python 3",
   "language": "python",
   "name": "python3"
  },
  "language_info": {
   "codemirror_mode": {
    "name": "ipython",
    "version": 3
   },
   "file_extension": ".py",
   "mimetype": "text/x-python",
   "name": "python",
   "nbconvert_exporter": "python",
   "pygments_lexer": "ipython3",
   "version": "3.10.11"
  },
  "orig_nbformat": 4
 },
 "nbformat": 4,
 "nbformat_minor": 2
}
